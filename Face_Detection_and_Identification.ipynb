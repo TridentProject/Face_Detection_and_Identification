{
  "nbformat": 4,
  "nbformat_minor": 0,
  "metadata": {
    "colab": {
      "provenance": []
    },
    "kernelspec": {
      "name": "python3",
      "display_name": "Python 3"
    },
    "language_info": {
      "name": "python"
    }
  },
  "cells": [
    {
      "cell_type": "code",
      "execution_count": 18,
      "metadata": {
        "id": "S6hWWXHRMLBm"
      },
      "outputs": [],
      "source": [
        "import cv2\n",
        "import time"
      ]
    },
    {
      "cell_type": "code",
      "source": [
        "# Load the video\n",
        "video = cv2.VideoCapture(\"/content/Image_Recognition_Data.mp4\")"
      ],
      "metadata": {
        "id": "-rKcIQv-M0aq"
      },
      "execution_count": 19,
      "outputs": []
    },
    {
      "cell_type": "code",
      "source": [
        "# Get the fps of the video\n",
        "fps = int(video.get(cv2.CAP_PROP_FPS))\n",
        "print(f\"FPS: {fps}\")\n",
        "total_frames = int(video.get(cv2.CAP_PROP_FRAME_COUNT))\n",
        "print(f\"Total Frames in a Video: {total_frames}\")"
      ],
      "metadata": {
        "colab": {
          "base_uri": "https://localhost:8080/"
        },
        "id": "frYs_cCrM0Vh",
        "outputId": "45e640ac-1cf9-4e4a-919a-73db328b1435"
      },
      "execution_count": 20,
      "outputs": [
        {
          "output_type": "stream",
          "name": "stdout",
          "text": [
            "FPS: 29\n",
            "Total Frames in a Video: 507\n"
          ]
        }
      ]
    },
    {
      "cell_type": "code",
      "source": [
        "# Extract and save each frame as an image\n",
        "j = 1\n",
        "for i in range(total_frames):\n",
        "    print(\"In for loop\")\n",
        "    print(j)\n",
        "    # Read a frame from the video\n",
        "    ret, frame = video.read()\n",
        "    if ret:\n",
        "        # Save the frame as an image\n",
        "        image_path = f\"/content/Captured_Image/frame_{j}_Sec_{j//fps}.jpg\"\n",
        "        j += 1\n",
        "        print(\"Saving Image\")\n",
        "        cv2.imwrite(image_path, frame)\n",
        "\n",
        "    else:\n",
        "        print(\"Loop Break Condition Satisfied\")\n",
        "        print(j)\n",
        "        break\n",
        "   \n",
        "video.release()"
      ],
      "metadata": {
        "id": "22yiJ5KK3iAR"
      },
      "execution_count": null,
      "outputs": []
    },
    {
      "cell_type": "code",
      "source": [],
      "metadata": {
        "id": "Ptcc_Z_kM0Qs"
      },
      "execution_count": null,
      "outputs": []
    },
    {
      "cell_type": "code",
      "source": [],
      "metadata": {
        "id": "Lea2J6q_M0QF"
      },
      "execution_count": null,
      "outputs": []
    },
    {
      "cell_type": "code",
      "source": [],
      "metadata": {
        "id": "x5b2K_j0M0Fn"
      },
      "execution_count": null,
      "outputs": []
    }
  ]
}